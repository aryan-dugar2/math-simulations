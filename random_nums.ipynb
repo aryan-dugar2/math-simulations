{
 "cells": [
  {
   "cell_type": "code",
   "execution_count": 16,
   "metadata": {},
   "outputs": [],
   "source": [
    "# Import plotting devices \n",
    "import matplotlib.pyplot as plt\n",
    "import numpy as np"
   ]
  },
  {
   "cell_type": "code",
   "execution_count": 14,
   "metadata": {},
   "outputs": [],
   "source": [
    "# Using the Park and Miller method to generate sample points with uniform(0,1) distribution asymptotically.\n",
    "def func(seed, length):\n",
    "    list1 = [seed]\n",
    "    A = 16807 # A number of high multiplicative order relative to M\n",
    "    M = 2147483647 # A prime number\n",
    "    \n",
    "    for i in range(length):\n",
    "        list1.append(((A*list1[-1])%M))\n",
    "        \n",
    "        # I_(n+1) = A*I_n mod M\n",
    "    for i in range(0,len(list1)):\n",
    "        list1[i] = list1[i]/(M-1)\n",
    "    return list1"
   ]
  },
  {
   "cell_type": "code",
   "execution_count": 43,
   "metadata": {},
   "outputs": [],
   "source": [
    "# We generate 500000 sample points, with specified seed \n",
    "rands = func(seed=1512401,length=500000) "
   ]
  },
  {
   "cell_type": "code",
   "execution_count": 44,
   "metadata": {},
   "outputs": [
    {
     "data": {
      "image/png": "[encoded data removed]",
      "text/plain": [
       "<Figure size 432x288 with 1 Axes>"
      ]
     },
     "metadata": {
      "needs_background": "light"
     },
     "output_type": "display_data"
    }
   ],
   "source": [
    "# Plot histogram.\n",
    "plt.hist(rands,bins = 100, density=True)\n",
    "plt.show()\n",
    "\n",
    "# Note the y-axis and x-axis!"
   ]
  },
  {
   "cell_type": "code",
   "execution_count": 46,
   "metadata": {},
   "outputs": [],
   "source": [
    "exp_lambda = []\n",
    "lambd = 5\n",
    "\n",
    "for elem in rands:\n",
    "    exp_lambda.append(-np.log(1-elem)/lambd)"
   ]
  },
  {
   "cell_type": "code",
   "execution_count": 49,
   "metadata": {},
   "outputs": [
    {
     "data": {
      "image/png": "[encoded data removed]",
      "text/plain": [
       "<Figure size 432x288 with 1 Axes>"
      ]
     },
     "metadata": {
      "needs_background": "light"
     },
     "output_type": "display_data"
    }
   ],
   "source": [
    "plt.hist(exp_lambda,bins = 100, density = True)\n",
    "plt.show()"
   ]
  },
  {
   "cell_type": "markdown",
   "metadata": {},
   "source": [
    "Further reading\n",
    "\n",
    "1) https://youjunhu.github.io/research_notes/particle_simulation/particle_simulationsu33.html (outlines method for generating uniformly distributed random numbers)"
   ]
  }
 ],
 "metadata": {
  "kernelspec": {
   "display_name": "Python 3 (ipykernel)",
   "language": "python",
   "name": "python3"
  },
  "language_info": {
   "codemirror_mode": {
    "name": "ipython",
    "version": 3
   },
   "file_extension": ".py",
   "mimetype": "text/x-python",
   "name": "python",
   "nbconvert_exporter": "python",
   "pygments_lexer": "ipython3",
   "version": "3.9.12"
  }
 },
 "nbformat": 4,
 "nbformat_minor": 4
}
