{
 "cells": [
  {
   "cell_type": "code",
   "execution_count": 4,
   "id": "509cbf59-e711-407f-a1f1-e1e4772f94f0",
   "metadata": {},
   "outputs": [],
   "source": [
    "from scipy.stats import binom\n",
    "from scipy.stats import norm\n",
    "import numpy as np\n",
    "import matplotlib.pyplot as plt"
   ]
  },
  {
   "cell_type": "code",
   "execution_count": 62,
   "id": "350c9350-c6a8-445b-b60a-fea5fa0b007e",
   "metadata": {},
   "outputs": [],
   "source": [
    "mean = 5\n",
    "stdev = 10\n",
    "noise_stdev = 100\n",
    "popn = norm(mean,stdev) # Initiate my random variable. Now, I know 1, but suppose I don't know that the mean is 0. That is, I want to estimate the mean.\n",
    "                 \n",
    "samples = popn.rvs((100,1000)) # Generate 100 samples of size 1000 each.\n",
    "noise = norm(0,noise_stdev).rvs((100,1000)) # Generate noise that is normal(0,1) distributed.\n",
    "\n",
    "samples = samples + noise\n",
    "\n",
    "means = np.mean(samples,axis=1) # For each sample, compute the mean. We thus have 100 samples, and mean of each.\n",
    "sigma_mean = np.std(means) # Standard deviation of X_bar "
   ]
  },
  {
   "cell_type": "code",
   "execution_count": 63,
   "id": "7ae6a341-91f2-473b-9329-b443fc8f090e",
   "metadata": {},
   "outputs": [
    {
     "data": {
      "text/plain": [
       "(array([ 1.,  1.,  9., 17., 25., 28., 13.,  3.,  1.,  2.]),\n",
       " array([-4.47193638, -2.58539164, -0.69884689,  1.18769786,  3.0742426 ,\n",
       "         4.96078735,  6.84733209,  8.73387684, 10.62042159, 12.50696633,\n",
       "        14.39351108]),\n",
       " <BarContainer object of 10 artists>)"
      ]
     },
     "execution_count": 63,
     "metadata": {},
     "output_type": "execute_result"
    },
    {
     "data": {
      "image/png": "[encoded data removed]",
      "text/plain": [
       "<Figure size 432x288 with 1 Axes>"
      ]
     },
     "metadata": {
      "needs_background": "light"
     },
     "output_type": "display_data"
    }
   ],
   "source": [
    "plt.hist(means)"
   ]
  },
  {
   "cell_type": "code",
   "execution_count": 82,
   "id": "3b718229-e8c8-40fa-9c75-a19223df8a3f",
   "metadata": {},
   "outputs": [],
   "source": [
    "alpha = np.array([0.5,0.4,0.3,0.2,0.1,0.05,0.01,0.001,0.0001])\n",
    "z_alpha = norm(0,1).ppf(1-alpha) # Generate confidence intervals."
   ]
  },
  {
   "cell_type": "code",
   "execution_count": 85,
   "id": "bf0d0810-271b-43d6-8653-afd8eb231831",
   "metadata": {},
   "outputs": [
    {
     "data": {
      "text/plain": [
       "Text(0, 0.5, 'Length of interval')"
      ]
     },
     "execution_count": 85,
     "metadata": {},
     "output_type": "execute_result"
    },
    {
     "data": {
      "image/png": "[encoded data removed]",
      "text/plain": [
       "<Figure size 432x288 with 1 Axes>"
      ]
     },
     "metadata": {
      "needs_background": "light"
     },
     "output_type": "display_data"
    }
   ],
   "source": [
    "plt.plot(1-alpha,z_alpha*sigma_mean)\n",
    "plt.xlabel(\"Certainity (1-alpha)\")\n",
    "plt.ylabel(\"Length of interval\")"
   ]
  },
  {
   "cell_type": "markdown",
   "id": "5f5d3435-b01e-4754-8f33-6d9fd0b5a2ef",
   "metadata": {},
   "source": [
    "More certainty that we desire --> bigger length of confidence interval. Indeed, if we want 100% confidence, then z_alpha = +infinity, that is, the interval has length infinity. Therefore, a more reasonable length such as 95% suffices. And note that this is a statement made with certainty when we know the sampling distribution of our estimator X_bar (as in here).\n",
    "\n",
    "That is, of all samples with size $n$ such that points are sampled with replacement (so, they are IID draws), $100(1-\\alpha)$% of $\\textbf{$100(1-\\alpha)$% confidence intervals}$ consist of the true parameter. \n",
    "\n",
    "So, if I consider all points that belong in $100(1-\\alpha)$ percentage of these $n$ intervals, then one of them will  be the true parameter."
   ]
  }
 ],
 "metadata": {
  "kernelspec": {
   "display_name": "Python 3 (ipykernel)",
   "language": "python",
   "name": "python3"
  },
  "language_info": {
   "codemirror_mode": {
    "name": "ipython",
    "version": 3
   },
   "file_extension": ".py",
   "mimetype": "text/x-python",
   "name": "python",
   "nbconvert_exporter": "python",
   "pygments_lexer": "ipython3",
   "version": "3.9.12"
  }
 },
 "nbformat": 4,
 "nbformat_minor": 5
}
